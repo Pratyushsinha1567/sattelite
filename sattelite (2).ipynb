{
 "cells": [
  {
   "cell_type": "code",
   "execution_count": 1,
   "id": "4ae10ad1",
   "metadata": {
    "execution": {
     "iopub.execute_input": "2024-07-05T10:39:11.569287Z",
     "iopub.status.busy": "2024-07-05T10:39:11.568801Z",
     "iopub.status.idle": "2024-07-05T10:39:28.523439Z",
     "shell.execute_reply": "2024-07-05T10:39:28.522072Z"
    },
    "papermill": {
     "duration": 16.968711,
     "end_time": "2024-07-05T10:39:28.526483",
     "exception": false,
     "start_time": "2024-07-05T10:39:11.557772",
     "status": "completed"
    },
    "tags": []
   },
   "outputs": [
    {
     "name": "stderr",
     "output_type": "stream",
     "text": [
      "2024-07-05 10:39:14.274301: E external/local_xla/xla/stream_executor/cuda/cuda_dnn.cc:9261] Unable to register cuDNN factory: Attempting to register factory for plugin cuDNN when one has already been registered\n",
      "2024-07-05 10:39:14.274495: E external/local_xla/xla/stream_executor/cuda/cuda_fft.cc:607] Unable to register cuFFT factory: Attempting to register factory for plugin cuFFT when one has already been registered\n",
      "2024-07-05 10:39:14.454223: E external/local_xla/xla/stream_executor/cuda/cuda_blas.cc:1515] Unable to register cuBLAS factory: Attempting to register factory for plugin cuBLAS when one has already been registered\n"
     ]
    }
   ],
   "source": [
    "import os\n",
    "import sys\n",
    "import numpy as np\n",
    "import re\n",
    "import cv2\n",
    "import matplotlib.pyplot as plt\n",
    "import tensorflow as tf\n",
    "import pandas as pd\n",
    "from tqdm import tqdm"
   ]
  },
  {
   "cell_type": "code",
   "execution_count": 2,
   "id": "6a3e32af",
   "metadata": {
    "execution": {
     "iopub.execute_input": "2024-07-05T10:39:28.546626Z",
     "iopub.status.busy": "2024-07-05T10:39:28.545940Z",
     "iopub.status.idle": "2024-07-05T10:39:28.609558Z",
     "shell.execute_reply": "2024-07-05T10:39:28.608282Z"
    },
    "papermill": {
     "duration": 0.0769,
     "end_time": "2024-07-05T10:39:28.612587",
     "exception": false,
     "start_time": "2024-07-05T10:39:28.535687",
     "status": "completed"
    },
    "tags": []
   },
   "outputs": [
    {
     "data": {
      "text/html": [
       "<div>\n",
       "<style scoped>\n",
       "    .dataframe tbody tr th:only-of-type {\n",
       "        vertical-align: middle;\n",
       "    }\n",
       "\n",
       "    .dataframe tbody tr th {\n",
       "        vertical-align: top;\n",
       "    }\n",
       "\n",
       "    .dataframe thead th {\n",
       "        text-align: right;\n",
       "    }\n",
       "</style>\n",
       "<table border=\"1\" class=\"dataframe\">\n",
       "  <thead>\n",
       "    <tr style=\"text-align: right;\">\n",
       "      <th></th>\n",
       "      <th>image_id</th>\n",
       "      <th>split</th>\n",
       "      <th>sat_image_path</th>\n",
       "      <th>mask_path</th>\n",
       "    </tr>\n",
       "  </thead>\n",
       "  <tbody>\n",
       "    <tr>\n",
       "      <th>0</th>\n",
       "      <td>100034</td>\n",
       "      <td>train</td>\n",
       "      <td>train/100034_sat.jpg</td>\n",
       "      <td>train/100034_mask.png</td>\n",
       "    </tr>\n",
       "    <tr>\n",
       "      <th>1</th>\n",
       "      <td>100081</td>\n",
       "      <td>train</td>\n",
       "      <td>train/100081_sat.jpg</td>\n",
       "      <td>train/100081_mask.png</td>\n",
       "    </tr>\n",
       "    <tr>\n",
       "      <th>2</th>\n",
       "      <td>100129</td>\n",
       "      <td>train</td>\n",
       "      <td>train/100129_sat.jpg</td>\n",
       "      <td>train/100129_mask.png</td>\n",
       "    </tr>\n",
       "    <tr>\n",
       "      <th>3</th>\n",
       "      <td>100703</td>\n",
       "      <td>train</td>\n",
       "      <td>train/100703_sat.jpg</td>\n",
       "      <td>train/100703_mask.png</td>\n",
       "    </tr>\n",
       "    <tr>\n",
       "      <th>4</th>\n",
       "      <td>100712</td>\n",
       "      <td>train</td>\n",
       "      <td>train/100712_sat.jpg</td>\n",
       "      <td>train/100712_mask.png</td>\n",
       "    </tr>\n",
       "  </tbody>\n",
       "</table>\n",
       "</div>"
      ],
      "text/plain": [
       "   image_id  split        sat_image_path              mask_path\n",
       "0    100034  train  train/100034_sat.jpg  train/100034_mask.png\n",
       "1    100081  train  train/100081_sat.jpg  train/100081_mask.png\n",
       "2    100129  train  train/100129_sat.jpg  train/100129_mask.png\n",
       "3    100703  train  train/100703_sat.jpg  train/100703_mask.png\n",
       "4    100712  train  train/100712_sat.jpg  train/100712_mask.png"
      ]
     },
     "execution_count": 2,
     "metadata": {},
     "output_type": "execute_result"
    }
   ],
   "source": [
    "data = pd.read_csv('/kaggle/input/deepglobe-road-extraction-dataset/metadata.csv')\n",
    "data.head()"
   ]
  },
  {
   "cell_type": "code",
   "execution_count": 3,
   "id": "626ab03d",
   "metadata": {
    "execution": {
     "iopub.execute_input": "2024-07-05T10:39:28.632922Z",
     "iopub.status.busy": "2024-07-05T10:39:28.632502Z",
     "iopub.status.idle": "2024-07-05T10:39:28.646470Z",
     "shell.execute_reply": "2024-07-05T10:39:28.645184Z"
    },
    "papermill": {
     "duration": 0.027664,
     "end_time": "2024-07-05T10:39:28.649484",
     "exception": false,
     "start_time": "2024-07-05T10:39:28.621820",
     "status": "completed"
    },
    "tags": []
   },
   "outputs": [],
   "source": [
    "data = data[data['split']=='train']"
   ]
  },
  {
   "cell_type": "code",
   "execution_count": 4,
   "id": "d7b0e204",
   "metadata": {
    "execution": {
     "iopub.execute_input": "2024-07-05T10:39:28.669992Z",
     "iopub.status.busy": "2024-07-05T10:39:28.669588Z",
     "iopub.status.idle": "2024-07-05T10:39:28.676865Z",
     "shell.execute_reply": "2024-07-05T10:39:28.675613Z"
    },
    "papermill": {
     "duration": 0.020626,
     "end_time": "2024-07-05T10:39:28.679195",
     "exception": false,
     "start_time": "2024-07-05T10:39:28.658569",
     "status": "completed"
    },
    "tags": []
   },
   "outputs": [
    {
     "data": {
      "text/plain": [
       "6226"
      ]
     },
     "execution_count": 4,
     "metadata": {},
     "output_type": "execute_result"
    }
   ],
   "source": [
    "len(data)"
   ]
  },
  {
   "cell_type": "code",
   "execution_count": 5,
   "id": "5668c629",
   "metadata": {
    "execution": {
     "iopub.execute_input": "2024-07-05T10:39:28.699430Z",
     "iopub.status.busy": "2024-07-05T10:39:28.698965Z",
     "iopub.status.idle": "2024-07-05T10:48:10.858619Z",
     "shell.execute_reply": "2024-07-05T10:48:10.857327Z"
    },
    "papermill": {
     "duration": 522.17302,
     "end_time": "2024-07-05T10:48:10.861538",
     "exception": false,
     "start_time": "2024-07-05T10:39:28.688518",
     "status": "completed"
    },
    "tags": []
   },
   "outputs": [
    {
     "name": "stderr",
     "output_type": "stream",
     "text": [
      "100%|██████████| 6226/6226 [08:42<00:00, 11.92it/s]\n"
     ]
    }
   ],
   "source": [
    "images = []\n",
    "masks = []\n",
    "for i in tqdm(range(6226)):\n",
    "    path='../input/deepglobe-road-extraction-dataset/'\n",
    "    image = plt.imread(path+data['sat_image_path'][i])\n",
    "    mask = plt.imread(path+data['mask_path'][i])\n",
    "    image = cv2.resize(image,(128,128),interpolation=cv2.INTER_CUBIC)\n",
    "    mask = cv2.resize(mask,(128,128),interpolation=cv2.INTER_CUBIC)\n",
    "    grayimg = mask[:,:,0]*0.2989+mask[:,:,1]*0.5870+mask[:,:,2]*0.1140\n",
    "    grayimg = tf.expand_dims(grayimg, axis=-1)\n",
    "    images.append(image)\n",
    "    masks.append(grayimg)"
   ]
  },
  {
   "cell_type": "code",
   "execution_count": 6,
   "id": "b3757553",
   "metadata": {
    "execution": {
     "iopub.execute_input": "2024-07-05T10:48:11.460311Z",
     "iopub.status.busy": "2024-07-05T10:48:11.459304Z",
     "iopub.status.idle": "2024-07-05T10:48:11.746586Z",
     "shell.execute_reply": "2024-07-05T10:48:11.745446Z"
    },
    "papermill": {
     "duration": 0.589208,
     "end_time": "2024-07-05T10:48:11.749062",
     "exception": false,
     "start_time": "2024-07-05T10:48:11.159854",
     "status": "completed"
    },
    "tags": []
   },
   "outputs": [
    {
     "data": {
      "image/png": "[encoded data removed]",
      "text/plain": [
       "<Figure size 640x480 with 1 Axes>"
      ]
     },
     "metadata": {},
     "output_type": "display_data"
    }
   ],
   "source": [
    "plt.imshow(masks[0],cmap='inferno')\n",
    "masks = list(masks)"
   ]
  },
  {
   "cell_type": "code",
   "execution_count": 7,
   "id": "b5f9ef97",
   "metadata": {
    "execution": {
     "iopub.execute_input": "2024-07-05T10:48:12.421656Z",
     "iopub.status.busy": "2024-07-05T10:48:12.421010Z",
     "iopub.status.idle": "2024-07-05T10:48:14.196925Z",
     "shell.execute_reply": "2024-07-05T10:48:14.195649Z"
    },
    "papermill": {
     "duration": 2.080391,
     "end_time": "2024-07-05T10:48:14.200130",
     "exception": false,
     "start_time": "2024-07-05T10:48:12.119739",
     "status": "completed"
    },
    "tags": []
   },
   "outputs": [],
   "source": [
    "import albumentations as album\n",
    "def augment(image_size = 128, crop_prob = 1):\n",
    "    return album.Compose([\n",
    "\n",
    "        album.RandomCrop(width = image_size, height = image_size, p=crop_prob),\n",
    "        album.HorizontalFlip(p=0.7),\n",
    "        album.VerticalFlip(p=0.4),\n",
    "        album.RandomRotate90(p=0.5),\n",
    "        album.RandomBrightnessContrast(p=0.6),\n",
    "        album.RandomGamma(p=0.25),\n",
    "    ],p=1)"
   ]
  },
  {
   "cell_type": "code",
   "execution_count": 8,
   "id": "ab8ec3e0",
   "metadata": {
    "execution": {
     "iopub.execute_input": "2024-07-05T10:48:14.800675Z",
     "iopub.status.busy": "2024-07-05T10:48:14.799894Z",
     "iopub.status.idle": "2024-07-05T10:48:15.781727Z",
     "shell.execute_reply": "2024-07-05T10:48:15.779845Z"
    },
    "papermill": {
     "duration": 1.286267,
     "end_time": "2024-07-05T10:48:15.783806",
     "exception": true,
     "start_time": "2024-07-05T10:48:14.497539",
     "status": "failed"
    },
    "tags": []
   },
   "outputs": [
    {
     "name": "stderr",
     "output_type": "stream",
     "text": [
      "0it [00:00, ?it/s]\n"
     ]
    },
    {
     "ename": "TypeError",
     "evalue": "mask must be numpy array type",
     "output_type": "error",
     "traceback": [
      "\u001b[0;31m---------------------------------------------------------------------------\u001b[0m",
      "\u001b[0;31mTypeError\u001b[0m                                 Traceback (most recent call last)",
      "Cell \u001b[0;32mIn[8], line 3\u001b[0m\n\u001b[1;32m      1\u001b[0m newimgs,newmasks \u001b[38;5;241m=\u001b[39m images\u001b[38;5;241m.\u001b[39mcopy(),masks\u001b[38;5;241m.\u001b[39mcopy()\n\u001b[1;32m      2\u001b[0m \u001b[38;5;28;01mfor\u001b[39;00m image,mask \u001b[38;5;129;01min\u001b[39;00m tqdm(\u001b[38;5;28mzip\u001b[39m(images,masks)):\n\u001b[0;32m----> 3\u001b[0m     aug \u001b[38;5;241m=\u001b[39m \u001b[43maugment\u001b[49m\u001b[43m(\u001b[49m\u001b[43m)\u001b[49m\u001b[43m(\u001b[49m\u001b[43mimage\u001b[49m\u001b[38;5;241;43m=\u001b[39;49m\u001b[43mimage\u001b[49m\u001b[43m,\u001b[49m\u001b[43mmask\u001b[49m\u001b[38;5;241;43m=\u001b[39;49m\u001b[43mmask\u001b[49m\u001b[43m)\u001b[49m\n\u001b[1;32m      4\u001b[0m     newimgs\u001b[38;5;241m.\u001b[39mappend(aug[\u001b[38;5;124m'\u001b[39m\u001b[38;5;124mimage\u001b[39m\u001b[38;5;124m'\u001b[39m])\n\u001b[1;32m      5\u001b[0m     newmasks\u001b[38;5;241m.\u001b[39mappend(aug[\u001b[38;5;124m'\u001b[39m\u001b[38;5;124mmask\u001b[39m\u001b[38;5;124m'\u001b[39m])\n",
      "File \u001b[0;32m/opt/conda/lib/python3.10/site-packages/albumentations/core/composition.py:198\u001b[0m, in \u001b[0;36mCompose.__call__\u001b[0;34m(self, force_apply, *args, **data)\u001b[0m\n\u001b[1;32m    196\u001b[0m     \u001b[38;5;28;01mraise\u001b[39;00m \u001b[38;5;167;01mKeyError\u001b[39;00m(\u001b[38;5;124m\"\u001b[39m\u001b[38;5;124mYou have to pass data to augmentations as named arguments, for example: aug(image=image)\u001b[39m\u001b[38;5;124m\"\u001b[39m)\n\u001b[1;32m    197\u001b[0m \u001b[38;5;28;01mif\u001b[39;00m \u001b[38;5;28mself\u001b[39m\u001b[38;5;241m.\u001b[39mis_check_args:\n\u001b[0;32m--> 198\u001b[0m     \u001b[38;5;28;43mself\u001b[39;49m\u001b[38;5;241;43m.\u001b[39;49m\u001b[43m_check_args\u001b[49m\u001b[43m(\u001b[49m\u001b[38;5;241;43m*\u001b[39;49m\u001b[38;5;241;43m*\u001b[39;49m\u001b[43mdata\u001b[49m\u001b[43m)\u001b[49m\n\u001b[1;32m    199\u001b[0m \u001b[38;5;28;01massert\u001b[39;00m \u001b[38;5;28misinstance\u001b[39m(force_apply, (\u001b[38;5;28mbool\u001b[39m, \u001b[38;5;28mint\u001b[39m)), \u001b[38;5;124m\"\u001b[39m\u001b[38;5;124mforce_apply must have bool or int type\u001b[39m\u001b[38;5;124m\"\u001b[39m\n\u001b[1;32m    200\u001b[0m need_to_run \u001b[38;5;241m=\u001b[39m force_apply \u001b[38;5;129;01mor\u001b[39;00m random\u001b[38;5;241m.\u001b[39mrandom() \u001b[38;5;241m<\u001b[39m \u001b[38;5;28mself\u001b[39m\u001b[38;5;241m.\u001b[39mp\n",
      "File \u001b[0;32m/opt/conda/lib/python3.10/site-packages/albumentations/core/composition.py:273\u001b[0m, in \u001b[0;36mCompose._check_args\u001b[0;34m(self, **kwargs)\u001b[0m\n\u001b[1;32m    271\u001b[0m \u001b[38;5;28;01mif\u001b[39;00m internal_data_name \u001b[38;5;129;01min\u001b[39;00m checked_single:\n\u001b[1;32m    272\u001b[0m     \u001b[38;5;28;01mif\u001b[39;00m \u001b[38;5;129;01mnot\u001b[39;00m \u001b[38;5;28misinstance\u001b[39m(data, np\u001b[38;5;241m.\u001b[39mndarray):\n\u001b[0;32m--> 273\u001b[0m         \u001b[38;5;28;01mraise\u001b[39;00m \u001b[38;5;167;01mTypeError\u001b[39;00m(\u001b[38;5;124mf\u001b[39m\u001b[38;5;124m\"\u001b[39m\u001b[38;5;132;01m{\u001b[39;00mdata_name\u001b[38;5;132;01m}\u001b[39;00m\u001b[38;5;124m must be numpy array type\u001b[39m\u001b[38;5;124m\"\u001b[39m)\n\u001b[1;32m    274\u001b[0m     shapes\u001b[38;5;241m.\u001b[39mappend(data\u001b[38;5;241m.\u001b[39mshape[:\u001b[38;5;241m2\u001b[39m])\n\u001b[1;32m    275\u001b[0m \u001b[38;5;28;01mif\u001b[39;00m internal_data_name \u001b[38;5;129;01min\u001b[39;00m checked_multi:\n",
      "\u001b[0;31mTypeError\u001b[0m: mask must be numpy array type"
     ]
    }
   ],
   "source": [
    "newimgs,newmasks = images.copy(),masks.copy()\n",
    "for image,mask in tqdm(zip(images,masks)):\n",
    "    aug = augment()(image=image,mask=mask)\n",
    "    newimgs.append(aug['image'])\n",
    "    newmasks.append(aug['mask'])\n"
   ]
  },
  {
   "cell_type": "code",
   "execution_count": null,
   "id": "e5d26a0d",
   "metadata": {
    "execution": {
     "iopub.status.busy": "2024-07-05T08:59:33.789004Z",
     "iopub.status.idle": "2024-07-05T08:59:33.789357Z",
     "shell.execute_reply": "2024-07-05T08:59:33.789189Z",
     "shell.execute_reply.started": "2024-07-05T08:59:33.789174Z"
    },
    "papermill": {
     "duration": null,
     "end_time": null,
     "exception": null,
     "start_time": null,
     "status": "pending"
    },
    "tags": []
   },
   "outputs": [],
   "source": [
    "'''\n",
    "#conv2d for just UNET no VGG16\n",
    "def Conv2dBlock(inputTensor, numFilters, kernelSize = 3, doBatchNorm = True):\n",
    "\n",
    "    x = tf.keras.layers.Conv2D(filters = numFilters, kernel_size = (kernelSize, kernelSize),\n",
    "                              kernel_initializer = 'he_normal', padding = 'same') (inputTensor)\n",
    "    \n",
    "    if doBatchNorm:\n",
    "        x = tf.keras.layers.BatchNormalization()(x)\n",
    "        \n",
    "    x =tf.keras.layers.Activation('relu')(x)\n",
    "    \n",
    "    x = tf.keras.layers.Conv2D(filters = numFilters, kernel_size = (kernelSize, kernelSize),\n",
    "                              kernel_initializer = 'he_normal', padding = 'same') (x)\n",
    "    if doBatchNorm:\n",
    "        x = tf.keras.layers.BatchNormalization()(x)\n",
    "        \n",
    "    x = tf.keras.layers.Activation('relu')(x)\n",
    "    \n",
    "    return x\n",
    "'''\n"
   ]
  },
  {
   "cell_type": "code",
   "execution_count": null,
   "id": "40dc7edb",
   "metadata": {
    "execution": {
     "iopub.execute_input": "2024-07-05T09:03:36.767137Z",
     "iopub.status.busy": "2024-07-05T09:03:36.766766Z",
     "iopub.status.idle": "2024-07-05T09:03:36.772400Z",
     "shell.execute_reply": "2024-07-05T09:03:36.771301Z",
     "shell.execute_reply.started": "2024-07-05T09:03:36.767111Z"
    },
    "papermill": {
     "duration": null,
     "end_time": null,
     "exception": null,
     "start_time": null,
     "status": "pending"
    },
    "tags": []
   },
   "outputs": [],
   "source": [
    "import tensorflow as tf\n",
    "from tensorflow.keras import layers, models\n",
    "from tensorflow.keras.applications import VGG16"
   ]
  },
  {
   "cell_type": "code",
   "execution_count": null,
   "id": "0c3fefea",
   "metadata": {
    "execution": {
     "iopub.execute_input": "2024-07-05T09:03:37.514198Z",
     "iopub.status.busy": "2024-07-05T09:03:37.513839Z",
     "iopub.status.idle": "2024-07-05T09:03:37.520917Z",
     "shell.execute_reply": "2024-07-05T09:03:37.519847Z",
     "shell.execute_reply.started": "2024-07-05T09:03:37.514169Z"
    },
    "papermill": {
     "duration": null,
     "end_time": null,
     "exception": null,
     "start_time": null,
     "status": "pending"
    },
    "tags": []
   },
   "outputs": [],
   "source": [
    "#conv2d for UNET+ VGG16\n",
    "def Conv2dBlock(inputTensor, numFilters, kernelSize=3, doBatchNorm=True):\n",
    "    x = layers.Conv2D(numFilters, (kernelSize, kernelSize), padding='same')(inputTensor)\n",
    "    if doBatchNorm:\n",
    "        x = layers.BatchNormalization()(x)\n",
    "    x = layers.Activation('relu')(x)\n",
    "\n",
    "    x = layers.Conv2D(numFilters, (kernelSize, kernelSize), padding='same')(x)\n",
    "    if doBatchNorm:\n",
    "        x = layers.BatchNormalization()(x)\n",
    "    x = layers.Activation('relu')(x)\n",
    "\n",
    "    return x"
   ]
  },
  {
   "cell_type": "code",
   "execution_count": null,
   "id": "680da20c",
   "metadata": {
    "execution": {
     "iopub.execute_input": "2024-07-05T09:59:11.069976Z",
     "iopub.status.busy": "2024-07-05T09:59:11.068952Z",
     "iopub.status.idle": "2024-07-05T09:59:11.082645Z",
     "shell.execute_reply": "2024-07-05T09:59:11.081626Z",
     "shell.execute_reply.started": "2024-07-05T09:59:11.069940Z"
    },
    "papermill": {
     "duration": null,
     "end_time": null,
     "exception": null,
     "start_time": null,
     "status": "pending"
    },
    "tags": []
   },
   "outputs": [],
   "source": [
    "#this one has both unet and VGG16 but slow and I didnt have enough time before submission\n",
    "\n",
    "def GiveMeUnet(inputSize=(128, 128, 3), numFilters=16, dropouts=0.3, doBatchNorm=True):\n",
    "    inputs = layers.Input(inputSize)\n",
    "\n",
    "    # VGG16 encoder\n",
    "    base_model = VGG16(weights='imagenet', include_top=False, input_shape=inputSize)\n",
    "    for layer in base_model.layers:\n",
    "        layer.trainable = False\n",
    "\n",
    "    c1 = base_model.get_layer(\"block1_conv2\").output\n",
    "    c2 = base_model.get_layer(\"block2_conv2\").output\n",
    "    c3 = base_model.get_layer(\"block3_conv3\").output\n",
    "    c4 = base_model.get_layer(\"block4_conv3\").output\n",
    "    c5 = base_model.get_layer(\"block5_conv3\").output\n",
    "\n",
    "    # Decoder\n",
    "    u6 = layers.Conv2DTranspose(numFilters * 8, (3, 3), strides=(2, 2), padding='same')(c5)\n",
    "    u6 = layers.concatenate([u6, c4])\n",
    "    u6 = layers.Dropout(dropouts)(u6)\n",
    "    c6 = Conv2dBlock(u6, numFilters * 8, doBatchNorm=doBatchNorm)\n",
    "\n",
    "    u7 = layers.Conv2DTranspose(numFilters * 4, (3, 3), strides=(2, 2), padding='same')(c6)\n",
    "    u7 = layers.concatenate([u7, c3])\n",
    "    u7 = layers.Dropout(dropouts)(u7)\n",
    "    c7 = Conv2dBlock(u7, numFilters * 4, doBatchNorm=doBatchNorm)\n",
    "\n",
    "    u8 = layers.Conv2DTranspose(numFilters * 2, (3, 3), strides=(2, 2), padding='same')(c7)\n",
    "    u8 = layers.concatenate([u8, c2])\n",
    "    u8 = layers.Dropout(dropouts)(u8)\n",
    "    c8 = Conv2dBlock(u8, numFilters * 2, doBatchNorm=doBatchNorm)\n",
    "\n",
    "    u9 = layers.Conv2DTranspose(numFilters, (3, 3), strides=(2, 2), padding='same')(c8)\n",
    "    u9 = layers.concatenate([u9, c1])\n",
    "    u9 = layers.Dropout(dropouts)(u9)\n",
    "    c9 = Conv2dBlock(u9, numFilters, doBatchNorm=doBatchNorm)\n",
    "\n",
    "    outputs = layers.Conv2D(1, (1, 1), activation='sigmoid')(c9)\n",
    "\n",
    "    model = models.Model(inputs=[base_model.input], outputs=[outputs])\n",
    "\n",
    "    return model\n"
   ]
  },
  {
   "cell_type": "code",
   "execution_count": null,
   "id": "a2cd1ae9",
   "metadata": {
    "execution": {
     "iopub.execute_input": "2024-07-05T10:19:42.187797Z",
     "iopub.status.busy": "2024-07-05T10:19:42.186650Z",
     "iopub.status.idle": "2024-07-05T10:19:42.206201Z",
     "shell.execute_reply": "2024-07-05T10:19:42.205272Z",
     "shell.execute_reply.started": "2024-07-05T10:19:42.187757Z"
    },
    "papermill": {
     "duration": null,
     "end_time": null,
     "exception": null,
     "start_time": null,
     "status": "pending"
    },
    "tags": []
   },
   "outputs": [],
   "source": [
    "\n",
    "#this one uses UNET\n",
    "def GiveMeUnet(inputImage, numFilters = 16, droupouts = 0.1, doBatchNorm = True):\n",
    "\n",
    "    c1 = Conv2dBlock(inputImage, numFilters * 1, kernelSize = 3, doBatchNorm = doBatchNorm)\n",
    "    p1 = tf.keras.layers.MaxPooling2D((2,2))(c1)\n",
    "    p1 = tf.keras.layers.Dropout(droupouts)(p1)\n",
    "    \n",
    "    c2 = Conv2dBlock(p1, numFilters * 2, kernelSize = 3, doBatchNorm = doBatchNorm)\n",
    "    p2 = tf.keras.layers.MaxPooling2D((2,2))(c2)\n",
    "    p2 = tf.keras.layers.Dropout(droupouts)(p2)\n",
    "    \n",
    "    c3 = Conv2dBlock(p2, numFilters * 4, kernelSize = 3, doBatchNorm = doBatchNorm)\n",
    "    p3 = tf.keras.layers.MaxPooling2D((2,2))(c3)\n",
    "    p3 = tf.keras.layers.Dropout(droupouts)(p3)\n",
    "    \n",
    "    c4 = Conv2dBlock(p3, numFilters * 8, kernelSize = 3, doBatchNorm = doBatchNorm)\n",
    "    p4 = tf.keras.layers.MaxPooling2D((2,2))(c4)\n",
    "    p4 = tf.keras.layers.Dropout(droupouts)(p4)\n",
    "    \n",
    "    c5 = Conv2dBlock(p4, numFilters * 16, kernelSize = 3, doBatchNorm = doBatchNorm)\n",
    "\n",
    "    u6 = tf.keras.layers.Conv2DTranspose(numFilters*8, (3, 3), strides = (2, 2), padding = 'same')(c5)\n",
    "    u6 = tf.keras.layers.concatenate([u6, c4])\n",
    "    u6 = tf.keras.layers.Dropout(droupouts)(u6)\n",
    "    c6 = Conv2dBlock(u6, numFilters * 8, kernelSize = 3, doBatchNorm = doBatchNorm)\n",
    "    \n",
    "    u7 = tf.keras.layers.Conv2DTranspose(numFilters*4, (3, 3), strides = (2, 2), padding = 'same')(c6)\n",
    "    u7 = tf.keras.layers.concatenate([u7, c3])\n",
    "    u7 = tf.keras.layers.Dropout(droupouts)(u7)\n",
    "    c7 = Conv2dBlock(u7, numFilters * 4, kernelSize = 3, doBatchNorm = doBatchNorm)\n",
    "    \n",
    "    u8 = tf.keras.layers.Conv2DTranspose(numFilters*2, (3, 3), strides = (2, 2), padding = 'same')(c7)\n",
    "    u8 = tf.keras.layers.concatenate([u8, c2])\n",
    "    u8 = tf.keras.layers.Dropout(droupouts)(u8)\n",
    "    c8 = Conv2dBlock(u8, numFilters * 2, kernelSize = 3, doBatchNorm = doBatchNorm)\n",
    "    \n",
    "    u9 = tf.keras.layers.Conv2DTranspose(numFilters*1, (3, 3), strides = (2, 2), padding = 'same')(c8)\n",
    "    u9 = tf.keras.layers.concatenate([u9, c1])\n",
    "    u9 = tf.keras.layers.Dropout(droupouts)(u9)\n",
    "    c9 = Conv2dBlock(u9, numFilters * 1, kernelSize = 3, doBatchNorm = doBatchNorm)\n",
    "    \n",
    "    output = tf.keras.layers.Conv2D(1, (1, 1), activation = 'sigmoid')(c9)\n",
    "    model = tf.keras.Model(inputs = [inputImage], outputs = [output])\n",
    "    return model\n"
   ]
  },
  {
   "cell_type": "code",
   "execution_count": null,
   "id": "f31aa9f0",
   "metadata": {
    "execution": {
     "iopub.execute_input": "2024-07-05T10:04:07.408151Z",
     "iopub.status.busy": "2024-07-05T10:04:07.407400Z",
     "iopub.status.idle": "2024-07-05T10:04:07.942503Z",
     "shell.execute_reply": "2024-07-05T10:04:07.941606Z",
     "shell.execute_reply.started": "2024-07-05T10:04:07.408119Z"
    },
    "papermill": {
     "duration": null,
     "end_time": null,
     "exception": null,
     "start_time": null,
     "status": "pending"
    },
    "tags": []
   },
   "outputs": [],
   "source": [
    "\n",
    "def dice_loss(y_true, y_pred, smooth=1):\n",
    "    y_true_f = tf.keras.backend.flatten(y_true)\n",
    "    y_pred_f = tf.keras.backend.flatten(y_pred)\n",
    "    intersection = tf.keras.backend.sum(y_true_f * y_pred_f)\n",
    "    return 1 - (2. * intersection + smooth) / (tf.keras.backend.sum(y_true_f) + tf.keras.backend.sum(y_pred_f) + smooth)\n",
    "\n",
    "model = GiveMeUnet(inputSize=(128, 128, 3), numFilters=16, dropouts=0.1, doBatchNorm=True)\n",
    "\n",
    "model.compile(optimizer=tf.keras.optimizers.Adam(learning_rate=0.001), loss=dice_loss, metrics=['accuracy'])\n",
    "\n",
    "model.summary()\n"
   ]
  },
  {
   "cell_type": "code",
   "execution_count": null,
   "id": "a4299731",
   "metadata": {
    "execution": {
     "iopub.status.busy": "2024-07-05T08:59:33.800574Z",
     "iopub.status.idle": "2024-07-05T08:59:33.800931Z",
     "shell.execute_reply": "2024-07-05T08:59:33.800780Z",
     "shell.execute_reply.started": "2024-07-05T08:59:33.800767Z"
    },
    "papermill": {
     "duration": null,
     "end_time": null,
     "exception": null,
     "start_time": null,
     "status": "pending"
    },
    "tags": []
   },
   "outputs": [],
   "source": [
    "'''\n",
    "def dice_coefficient(y_true, y_pred):\n",
    "    smooth = 1e-5\n",
    "    y_true_f = tf.keras.backend.flatten(y_true)\n",
    "    y_pred_f = tf.keras.backend.flatten(y_pred)\n",
    "    intersection = tf.keras.backend.sum(y_true_f * y_pred_f)\n",
    "    return (2. * intersection + smooth) / (tf.keras.backend.sum(y_true_f) + tf.keras.backend.sum(y_pred_f) + smooth)\n",
    "\n",
    "def mean_iou(y_true, y_pred):\n",
    "    y_pred = tf.cast(tf.math.greater(y_pred, 0.5), tf.float32)  # Binarize predictions\n",
    "    intersection = tf.reduce_sum(y_true * y_pred, axis=[1, 2, 3])\n",
    "    union = tf.reduce_sum(tf.cast(tf.math.logical_or(tf.cast(y_true, tf.bool), tf.cast(y_pred, tf.bool)), tf.float32), axis=[1, 2, 3])\n",
    "    return tf.reduce_mean(intersection / union)\n",
    "'''"
   ]
  },
  {
   "cell_type": "code",
   "execution_count": null,
   "id": "21e99947",
   "metadata": {
    "execution": {
     "iopub.execute_input": "2024-07-05T10:19:56.252179Z",
     "iopub.status.busy": "2024-07-05T10:19:56.251552Z",
     "iopub.status.idle": "2024-07-05T10:19:57.075194Z",
     "shell.execute_reply": "2024-07-05T10:19:57.074379Z",
     "shell.execute_reply.started": "2024-07-05T10:19:56.252144Z"
    },
    "papermill": {
     "duration": null,
     "end_time": null,
     "exception": null,
     "start_time": null,
     "status": "pending"
    },
    "tags": []
   },
   "outputs": [],
   "source": [
    "\n",
    "## instanctiating model\n",
    "inputs = tf.keras.layers.Input((128, 128, 3))\n",
    "unet = GiveMeUnet(inputs, droupouts= 0.07)\n",
    "unet.compile(optimizer = 'Adam', loss = 'binary_crossentropy', metrics = ['accuracy'] )\n",
    "\n",
    "images=np.array(newimgs)\n",
    "masks=np.array(newmasks)"
   ]
  },
  {
   "cell_type": "code",
   "execution_count": null,
   "id": "66d4f4b3",
   "metadata": {
    "execution": {
     "iopub.execute_input": "2024-07-05T09:59:21.409840Z",
     "iopub.status.busy": "2024-07-05T09:59:21.409451Z",
     "iopub.status.idle": "2024-07-05T09:59:21.415919Z",
     "shell.execute_reply": "2024-07-05T09:59:21.415031Z",
     "shell.execute_reply.started": "2024-07-05T09:59:21.409802Z"
    },
    "papermill": {
     "duration": null,
     "end_time": null,
     "exception": null,
     "start_time": null,
     "status": "pending"
    },
    "tags": []
   },
   "outputs": [],
   "source": [
    "masks.shape"
   ]
  },
  {
   "cell_type": "code",
   "execution_count": null,
   "id": "3b409113",
   "metadata": {
    "execution": {
     "iopub.execute_input": "2024-07-05T10:20:07.242505Z",
     "iopub.status.busy": "2024-07-05T10:20:07.242122Z",
     "iopub.status.idle": "2024-07-05T10:25:52.938138Z",
     "shell.execute_reply": "2024-07-05T10:25:52.937281Z",
     "shell.execute_reply.started": "2024-07-05T10:20:07.242472Z"
    },
    "papermill": {
     "duration": null,
     "end_time": null,
     "exception": null,
     "start_time": null,
     "status": "pending"
    },
    "tags": []
   },
   "outputs": [],
   "source": [
    "retVal = unet.fit(images, masks, epochs=10, verbose=1, batch_size=16, validation_split=0.2)"
   ]
  },
  {
   "cell_type": "code",
   "execution_count": null,
   "id": "b3ac74f9",
   "metadata": {
    "execution": {
     "iopub.execute_input": "2024-07-05T10:12:10.460622Z",
     "iopub.status.busy": "2024-07-05T10:12:10.459801Z",
     "iopub.status.idle": "2024-07-05T10:12:54.674274Z",
     "shell.execute_reply": "2024-07-05T10:12:54.673290Z",
     "shell.execute_reply.started": "2024-07-05T10:12:10.460587Z"
    },
    "papermill": {
     "duration": null,
     "end_time": null,
     "exception": null,
     "start_time": null,
     "status": "pending"
    },
    "tags": []
   },
   "outputs": [],
   "source": [
    "results = model.evaluate(images, masks, batch_size=16, verbose=1)\n",
    "\n",
    "print(f\"Loss: {results[0]}\")\n",
    "print(f\"Accuracy: {results[1]}\")\n"
   ]
  },
  {
   "cell_type": "code",
   "execution_count": null,
   "id": "d8a33081",
   "metadata": {
    "execution": {
     "iopub.execute_input": "2024-07-05T09:16:18.724066Z",
     "iopub.status.busy": "2024-07-05T09:16:18.723162Z",
     "iopub.status.idle": "2024-07-05T09:16:18.731948Z",
     "shell.execute_reply": "2024-07-05T09:16:18.730894Z",
     "shell.execute_reply.started": "2024-07-05T09:16:18.724032Z"
    },
    "papermill": {
     "duration": null,
     "end_time": null,
     "exception": null,
     "start_time": null,
     "status": "pending"
    },
    "tags": []
   },
   "outputs": [],
   "source": [
    "def dice_coefficient(y_true, y_pred):\n",
    "    smooth = 1e-5\n",
    "    y_true_f = tf.keras.backend.flatten(y_true)\n",
    "    y_pred_f = tf.keras.backend.flatten(y_pred)\n",
    "    intersection = tf.keras.backend.sum(y_true_f * y_pred_f)\n",
    "    return (2. * intersection + smooth) / (tf.keras.backend.sum(y_true_f) + tf.keras.backend.sum(y_pred_f) + smooth)\n",
    "\n",
    "def mean_iou(y_true, y_pred):\n",
    "    y_pred = tf.cast(tf.math.greater(y_pred, 0.5), tf.float32)  # Binarize predictions\n",
    "    intersection = tf.reduce_sum(y_true * y_pred, axis=[1, 2, 3])\n",
    "    union = tf.reduce_sum(tf.cast(tf.math.logical_or(tf.cast(y_true, tf.bool), tf.cast(y_pred, tf.bool)), tf.float32), axis=[1, 2, 3])\n",
    "    return tf.reduce_mean(intersection / union)"
   ]
  },
  {
   "cell_type": "code",
   "execution_count": null,
   "id": "9a795f1e",
   "metadata": {
    "execution": {
     "iopub.execute_input": "2024-07-05T10:26:01.411715Z",
     "iopub.status.busy": "2024-07-05T10:26:01.411051Z",
     "iopub.status.idle": "2024-07-05T10:26:27.814928Z",
     "shell.execute_reply": "2024-07-05T10:26:27.813815Z",
     "shell.execute_reply.started": "2024-07-05T10:26:01.411668Z"
    },
    "papermill": {
     "duration": null,
     "end_time": null,
     "exception": null,
     "start_time": null,
     "status": "pending"
    },
    "tags": []
   },
   "outputs": [],
   "source": [
    "predictions = model.predict(images)"
   ]
  },
  {
   "cell_type": "code",
   "execution_count": null,
   "id": "67b3ee0d",
   "metadata": {
    "execution": {
     "iopub.execute_input": "2024-07-05T09:16:55.973193Z",
     "iopub.status.busy": "2024-07-05T09:16:55.972409Z",
     "iopub.status.idle": "2024-07-05T09:16:55.979042Z",
     "shell.execute_reply": "2024-07-05T09:16:55.978029Z",
     "shell.execute_reply.started": "2024-07-05T09:16:55.973151Z"
    },
    "papermill": {
     "duration": null,
     "end_time": null,
     "exception": null,
     "start_time": null,
     "status": "pending"
    },
    "tags": []
   },
   "outputs": [],
   "source": [
    "predictions.shape"
   ]
  },
  {
   "cell_type": "code",
   "execution_count": null,
   "id": "37e54970",
   "metadata": {
    "execution": {
     "iopub.execute_input": "2024-07-05T09:16:57.982945Z",
     "iopub.status.busy": "2024-07-05T09:16:57.982559Z",
     "iopub.status.idle": "2024-07-05T09:16:57.989282Z",
     "shell.execute_reply": "2024-07-05T09:16:57.988245Z",
     "shell.execute_reply.started": "2024-07-05T09:16:57.982917Z"
    },
    "papermill": {
     "duration": null,
     "end_time": null,
     "exception": null,
     "start_time": null,
     "status": "pending"
    },
    "tags": []
   },
   "outputs": [],
   "source": [
    "masks.shape"
   ]
  },
  {
   "cell_type": "code",
   "execution_count": null,
   "id": "071fb4a3",
   "metadata": {
    "execution": {
     "iopub.execute_input": "2024-07-05T10:26:34.727338Z",
     "iopub.status.busy": "2024-07-05T10:26:34.726613Z",
     "iopub.status.idle": "2024-07-05T10:26:40.335845Z",
     "shell.execute_reply": "2024-07-05T10:26:40.334852Z",
     "shell.execute_reply.started": "2024-07-05T10:26:34.727305Z"
    },
    "papermill": {
     "duration": null,
     "end_time": null,
     "exception": null,
     "start_time": null,
     "status": "pending"
    },
    "tags": []
   },
   "outputs": [],
   "source": [
    "iou = mean_iou(masks, predictions)\n",
    "dice = dice_coefficient(masks, predictions)\n",
    "\n",
    "print(f\"Mean IoU: {iou.numpy()}\")\n",
    "print(f\"Dice coefficient: {dice.numpy()}\")"
   ]
  },
  {
   "cell_type": "code",
   "execution_count": null,
   "id": "a5ab289e",
   "metadata": {
    "papermill": {
     "duration": null,
     "end_time": null,
     "exception": null,
     "start_time": null,
     "status": "pending"
    },
    "tags": []
   },
   "outputs": [],
   "source": []
  }
 ],
 "metadata": {
  "kaggle": {
   "accelerator": "none",
   "dataSources": [
    {
     "datasetId": 966140,
     "sourceId": 1634186,
     "sourceType": "datasetVersion"
    }
   ],
   "dockerImageVersionId": 30732,
   "isGpuEnabled": false,
   "isInternetEnabled": true,
   "language": "python",
   "sourceType": "notebook"
  },
  "kernelspec": {
   "display_name": "Python 3",
   "language": "python",
   "name": "python3"
  },
  "language_info": {
   "codemirror_mode": {
    "name": "ipython",
    "version": 3
   },
   "file_extension": ".py",
   "mimetype": "text/x-python",
   "name": "python",
   "nbconvert_exporter": "python",
   "pygments_lexer": "ipython3",
   "version": "3.10.13"
  },
  "papermill": {
   "default_parameters": {},
   "duration": 550.546177,
   "end_time": "2024-07-05T10:48:18.855066",
   "environment_variables": {},
   "exception": true,
   "input_path": "__notebook__.ipynb",
   "output_path": "__notebook__.ipynb",
   "parameters": {},
   "start_time": "2024-07-05T10:39:08.308889",
   "version": "2.5.0"
  }
 },
 "nbformat": 4,
 "nbformat_minor": 5
}
